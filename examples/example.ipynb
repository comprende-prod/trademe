{
 "cells": [
  {
   "cell_type": "markdown",
   "metadata": {},
   "source": [
    "# Example use of trademe to scrape for properties"
   ]
  },
  {
   "cell_type": "markdown",
   "metadata": {},
   "source": [
    "## How trademe searches for listings"
   ]
  },
  {
   "cell_type": "code",
   "execution_count": null,
   "metadata": {},
   "outputs": [],
   "source": []
  },
  {
   "cell_type": "markdown",
   "metadata": {},
   "source": [
    "NOTE THAT IT STARTS WITH A FIRST PAGE URL (WHICH DOESN'T *HAVE* TO BE THE FIRST PAGE)\n",
    "^ HENCE WHY YOU NEED TO USE A MAKE URL METHOD\n",
    "\n",
    "\n",
    "From the user's point of view, you need to:\n",
    "1. Enter your search details\n",
    "2. Run search()\n",
    "\n"
   ]
  },
  {
   "cell_type": "markdown",
   "metadata": {},
   "source": [
    "## A note on threading\n",
    "Technically, you can pass as many URLs as you like into search(). Each will be processed sequentially, which could be VERY slow if you want to search up lots of different suburbs.\n",
    "Threading works here because requesting URLs involves a system call, which releases the Python GIL."
   ]
  },
  {
   "cell_type": "markdown",
   "metadata": {},
   "source": [
    "## Single-threaded: (recommended for smaller scraping tasks):"
   ]
  },
  {
   "cell_type": "code",
   "execution_count": null,
   "metadata": {},
   "outputs": [],
   "source": []
  },
  {
   "cell_type": "markdown",
   "metadata": {},
   "source": [
    "ALSO MENTION THAT YO \n"
   ]
  },
  {
   "cell_type": "markdown",
   "metadata": {},
   "source": [
    "AND DO MULTI-THREADED CODE EXAMPLE! AND PROVE IT HAS A FASTER RUNTIME THAN SINGLE-THREADED!"
   ]
  },
  {
   "cell_type": "markdown",
   "metadata": {},
   "source": []
  }
 ],
 "metadata": {
  "language_info": {
   "name": "python"
  },
  "orig_nbformat": 4
 },
 "nbformat": 4,
 "nbformat_minor": 2
}
