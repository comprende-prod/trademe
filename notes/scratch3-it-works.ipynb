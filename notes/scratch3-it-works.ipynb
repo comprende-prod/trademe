{
 "cells": [
  {
   "cell_type": "code",
   "execution_count": 3,
   "metadata": {},
   "outputs": [
    {
     "ename": "ImportError",
     "evalue": "attempted relative import with no known parent package",
     "output_type": "error",
     "traceback": [
      "\u001b[0;31m---------------------------------------------------------------------------\u001b[0m",
      "\u001b[0;31mImportError\u001b[0m                               Traceback (most recent call last)",
      "Cell \u001b[0;32mIn[3], line 1\u001b[0m\n\u001b[0;32m----> 1\u001b[0m \u001b[39mfrom\u001b[39;00m \u001b[39m.\u001b[39;00m\u001b[39m.\u001b[39;00m\u001b[39mtrademe\u001b[39;00m\u001b[39m.\u001b[39;00m\u001b[39msearch\u001b[39;00m \u001b[39mimport\u001b[39;00m make_kwarg_url, make_suburb_url, \\\n\u001b[1;32m      2\u001b[0m     search_without_async\n",
      "\u001b[0;31mImportError\u001b[0m: attempted relative import with no known parent package"
     ]
    }
   ],
   "source": [
    "from ..trademe.search import make_kwarg_url, make_suburb_url, \\\n",
    "    search_without_async"
   ]
  },
  {
   "cell_type": "code",
   "execution_count": 2,
   "metadata": {},
   "outputs": [],
   "source": [
    "url = make_suburb_url(\"sale\", region=\"Wellington\", district=\"Wellington\", suburb=\"aro-valley\")"
   ]
  },
  {
   "cell_type": "code",
   "execution_count": 3,
   "metadata": {},
   "outputs": [],
   "source": [
    "listings = search_without_async(None, [], url)"
   ]
  },
  {
   "cell_type": "code",
   "execution_count": 4,
   "metadata": {},
   "outputs": [
    {
     "data": {
      "text/plain": [
       "[Listing(title='Investors. Home & Income. Developers', address='3 Alameda Terrace, Aro Valley, Wellington', price='Enquiries over $1,545,000', features='6 bedrooms. 3 bathrooms. floor area 172 meters square. land area 420 meters square.', agent=' Helen Anderson & Paul Anderson ', agency=\"Tommy's Real Estate Limited\"),\n",
       " Listing(title='Investors. Home & Income. Developers', address='8 Alameda Terrace, Aro Valley, Wellington', price='Enquiries over $1,595,000', features='6 bedrooms. 5 bathrooms. floor area 250 meters square. land area 603 meters square.', agent=' Helen Anderson & Paul Anderson ', agency=\"Tommy's Real Estate Limited\"),\n",
       " Listing(title='10 Bed - 2 Flat - Loan Interest Deductible', address='31 Devon Street, Aro Valley, Wellington', price='Enquiries over $1,650,000', features='6 bedrooms. 4 bathrooms. floor area 140 meters square. land area 455 meters square.', agent=' Paul Dickason & Charles Lindsay ', agency='Professionals; Redcoats Limited (Wellington City)'),\n",
       " Listing(title='So close to Uni and the City!', address='45 Devon Street, Aro Valley, Wellington', price='Price by negotiation', features='3 bedrooms. 2 bathrooms. floor area 100 meters square. land area 265 meters square.', agent=' Christy Kimble ', agency='Ray White Group Leaders Wellington'),\n",
       " Listing(title='Sunny, outlook and location - BEO $280,000', address='6C/131 Abel Smith Street, Aro Valley, Wellington', price='Enquiries over $280,000', features='2 bedrooms. 1 bathrooms. floor area 70 meters square.', agent=' Everard Aspell & Katie Underwood\\n', agency='Ray White Group Leaders Wellington, (Licensed: REAA 2008)'),\n",
       " Listing(title='City Fringe Section, with plans. BEO $199,000', address='Aro Valley, Wellington', price='Enquiries over $199,000', features='land area 621 meters square.', agent=' Aaron Nation\\n', agency='Lowe & Co, (Licensed: REAA 2008)')]"
      ]
     },
     "execution_count": 4,
     "metadata": {},
     "output_type": "execute_result"
    }
   ],
   "source": [
    "listings"
   ]
  }
 ],
 "metadata": {
  "kernelspec": {
   "display_name": ".venv",
   "language": "python",
   "name": "python3"
  },
  "language_info": {
   "codemirror_mode": {
    "name": "ipython",
    "version": 3
   },
   "file_extension": ".py",
   "mimetype": "text/x-python",
   "name": "python",
   "nbconvert_exporter": "python",
   "pygments_lexer": "ipython3",
   "version": "3.11.5"
  },
  "orig_nbformat": 4
 },
 "nbformat": 4,
 "nbformat_minor": 2
}
