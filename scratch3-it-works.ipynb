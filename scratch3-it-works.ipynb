{
 "cells": [
  {
   "cell_type": "code",
   "execution_count": 1,
   "metadata": {},
   "outputs": [],
   "source": [
    "from trademe.search import make_url, search"
   ]
  },
  {
   "cell_type": "code",
   "execution_count": 5,
   "metadata": {},
   "outputs": [],
   "source": [
    "url = make_url(\"rent\", region=\"Wellington\", district=\"Wellington\", suburb=\"aro-valley\")\n",
    "# THIS IS AN ESP GOOD EXAMPLE BECAUSE IT INCLUDES SUPER FEATURES TOO"
   ]
  },
  {
   "cell_type": "code",
   "execution_count": 9,
   "metadata": {},
   "outputs": [],
   "source": [
    "listings = search(None, [], url)"
   ]
  },
  {
   "cell_type": "code",
   "execution_count": 10,
   "metadata": {},
   "outputs": [
    {
     "data": {
      "text/plain": [
       "[Listing(title='Aro Valley', address='same as title', price='$485 per week', features='1 bedrooms. 1 bathrooms.', link='https://www.trademe.co.nz/a/property/residential/rent/wellington/wellington/aro-valley/listing/4215787815?rsqid=79aed096d6234aee8680d80c7af68e01-001', availability='Available: Now', parking='n/a', agent=None, agency='Could not find agency. Probably a private listing.'),\n",
       " Listing(title='100 Holloway Road, Aro Valley, Wellington', address='same as title', price='$755 per week', features='3 bedrooms. 1 bathrooms.', link='https://www.trademe.co.nz/a/property/residential/rent/wellington/wellington/aro-valley/listing/4303644473?rsqid=79aed096d6234aee8680d80c7af68e01-001', availability='Available: Now', parking='n/a', agent=' Robert Hansen ', agency='LPM Property Management'),\n",
       " Listing(title=' Tanera Crescent, Aro Valley, Wellington', address='same as title', price='$1,100 per week', features='5 bedrooms. 1 bathrooms.', link='https://www.trademe.co.nz/a/property/residential/rent/wellington/wellington/aro-valley/listing/4326160788?rsqid=79aed096d6234aee8680d80c7af68e01-001', availability='Available: Sun, 29 Oct', parking='n/a', agent='No agent name provided.', agency=' Private listing '),\n",
       " Listing(title='1/225 Aro Street, Aro Valley, Wellington', address='same as title', price='$740 per week', features='2 bedrooms. 1 bathrooms.', link='https://www.trademe.co.nz/a/property/residential/rent/wellington/wellington/aro-valley/listing/4307244640?rsqid=79aed096d6234aee8680d80c7af68e01-001', availability='Available: Now', parking='n/a', agent=' myRent.co.nz\\n', agency='myRent.co.nz Ltd'),\n",
       " Listing(title='16/51 Adams Terrace, Aro Valley, Wellington', address='same as title', price='$485 per week', features='1 bedrooms. 1 bathrooms.', link='https://www.trademe.co.nz/a/property/residential/rent/wellington/wellington/aro-valley/listing/4215787815?rsqid=79aed096d6234aee8680d80c7af68e01-001', availability='Available: Now', parking='n/a', agent=' Quinovic Vivian Street\\n', agency='Quinovic - Vivian Street'),\n",
       " Listing(title='146H Aro Street, Aro Valley, Wellington', address='same as title', price='$995 per week', features='4 bedrooms. 3 bathrooms.', link='https://www.trademe.co.nz/a/property/residential/rent/wellington/wellington/aro-valley/listing/4209102146?rsqid=79aed096d6234aee8680d80c7af68e01-001', availability='Available: Now', parking='n/a', agent=' Quinovic Kent Terrace\\n', agency='Quinovic - Kent Terrace'),\n",
       " Listing(title='23B Palmer Street, Aro Valley, Wellington', address='same as title', price='$820 per week', features='4 bedrooms. 1 bathrooms.', link='https://www.trademe.co.nz/a/property/residential/rent/wellington/wellington/aro-valley/listing/4175659312?rsqid=79aed096d6234aee8680d80c7af68e01-001', availability='Available: Now', parking='n/a', agent=' Quinovic Johnsonville\\n', agency='Quinovic - Johnsonville'),\n",
       " Listing(title='Aro Valley, Wellington', address='same as title', price='$1,100 per week', features='3 bedrooms. 2 bathrooms.', link='https://www.trademe.co.nz/a/property/residential/rent/wellington/wellington/aro-valley/listing/4044913350?rsqid=79aed096d6234aee8680d80c7af68e01-001', availability='Available: Mon, 6 Nov', parking='n/a', agent=' myRent.co.nz\\n', agency='myRent.co.nz Ltd'),\n",
       " Listing(title='178 Aro street, Aro Valley, Wellington', address='same as title', price='$2,020 per week', features='6 bedrooms. 2 bathrooms.', link='https://www.trademe.co.nz/a/property/residential/rent/wellington/wellington/aro-valley/listing/4329987630?rsqid=79aed096d6234aee8680d80c7af68e01-001', availability='Available: Sun, 21 Jan', parking='n/a', agent='No agent name provided.', agency='RentCare Property Management'),\n",
       " Listing(title='Upper/33 Ohiro Road, Aro Valley, Wellington', address='same as title', price='$650 per week', features='1 bedrooms. 1 bathrooms.', link='https://www.trademe.co.nz/a/property/residential/rent/wellington/wellington/aro-valley/listing/4326409854?rsqid=79aed096d6234aee8680d80c7af68e01-001', availability='Available: Now', parking='n/a', agent='No agent name provided.', agency=' Private listing '),\n",
       " Listing(title='9 Mortimer Tce, Aro Valley, Wellington', address='same as title', price='$1,295 per week', features='5 bedrooms. 1 bathrooms.', link='https://www.trademe.co.nz/a/property/residential/rent/wellington/wellington/aro-valley/listing/4324077862?rsqid=79aed096d6234aee8680d80c7af68e01-001', availability='Available: Sun, 15 Oct', parking='n/a', agent='No agent name provided.', agency=' Private listing '),\n",
       " Listing(title='11 Maarama Crescent, Aro Valley, Wellington', address='same as title', price='$1,000 per week', features='4 bedrooms. 1 bathrooms.', link='https://www.trademe.co.nz/a/property/residential/rent/wellington/wellington/aro-valley/listing/4312639050?rsqid=79aed096d6234aee8680d80c7af68e01-001', availability='Available: Now', parking='n/a', agent='No agent name provided.', agency=' Private listing '),\n",
       " Listing(title='97c Raroa Rd, Aro Valley, Wellington', address='same as title', price='$460 per week', features='1 bedrooms. 1 bathrooms.', link='https://www.trademe.co.nz/a/property/residential/rent/wellington/wellington/aro-valley/listing/4297416182?rsqid=79aed096d6234aee8680d80c7af68e01-001', availability='Available: Now', parking='n/a', agent='No agent name provided.', agency=' Private listing '),\n",
       " Listing(title='6 Devon Street, Aro Valley, Wellington', address='same as title', price='$750 per week', features='3 bedrooms. 2 bathrooms.', link='https://www.trademe.co.nz/a/property/residential/rent/wellington/wellington/aro-valley/listing/4287580694?rsqid=79aed096d6234aee8680d80c7af68e01-001', availability='Available: Now', parking='n/a', agent='No agent name provided.', agency=' Private listing '),\n",
       " Listing(title='30C Devon Street, Aro Valley, Wellington', address='same as title', price='$660 per week', features='3 bedrooms. 1 bathrooms.', link='https://www.trademe.co.nz/a/property/residential/rent/wellington/wellington/aro-valley/listing/4210774729?rsqid=79aed096d6234aee8680d80c7af68e01-001', availability='Available: Now', parking='n/a', agent='No agent name provided.', agency=' Private listing '),\n",
       " Listing(title='32 Devon St, Aro Valley, Wellington', address='same as title', price='$1,100 per week', features='5 bedrooms. 1 bathrooms.', link='https://www.trademe.co.nz/a/property/residential/rent/wellington/wellington/aro-valley/listing/3956902575?rsqid=79aed096d6234aee8680d80c7af68e01-001', availability='Available: Now', parking='n/a', agent='No agent name provided.', agency=' Private listing ')]"
      ]
     },
     "execution_count": 10,
     "metadata": {},
     "output_type": "execute_result"
    }
   ],
   "source": [
    "listings"
   ]
  },
  {
   "cell_type": "code",
   "execution_count": 11,
   "metadata": {},
   "outputs": [
    {
     "data": {
      "text/plain": [
       "16"
      ]
     },
     "execution_count": 11,
     "metadata": {},
     "output_type": "execute_result"
    }
   ],
   "source": [
    "len(listings)  # AH! That is actually not a bug (says 15 on TradeMe, but one listing was duplicated)"
   ]
  },
  {
   "cell_type": "code",
   "execution_count": null,
   "metadata": {},
   "outputs": [],
   "source": []
  }
 ],
 "metadata": {
  "kernelspec": {
   "display_name": ".venv",
   "language": "python",
   "name": "python3"
  },
  "language_info": {
   "codemirror_mode": {
    "name": "ipython",
    "version": 3
   },
   "file_extension": ".py",
   "mimetype": "text/x-python",
   "name": "python",
   "nbconvert_exporter": "python",
   "pygments_lexer": "ipython3",
   "version": "3.11.5"
  },
  "orig_nbformat": 4
 },
 "nbformat": 4,
 "nbformat_minor": 2
}
