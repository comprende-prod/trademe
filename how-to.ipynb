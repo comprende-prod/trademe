{
 "cells": [
  {
   "cell_type": "markdown",
   "metadata": {},
   "source": [
    "# How `trademe` searches for listings"
   ]
  },
  {
   "cell_type": "markdown",
   "metadata": {},
   "source": [
    "(If you just want code examples, scroll to the bottom of the page)."
   ]
  },
  {
   "cell_type": "markdown",
   "metadata": {},
   "source": [
    "## search() and make_url()"
   ]
  },
  {
   "cell_type": "markdown",
   "metadata": {},
   "source": [
    "From a user's point of view, you need to:\n",
    "1. Specify your search criteria - this is done with `make_url()`.\n",
    "2. Search - this is done with, uh, `search()`.\n",
    "\n",
    "In fact, `search()` and `make_url()` are all you need to use `trademe` in Python.\n",
    "\n",
    "`make_url()` returns a URL string that `search()` treats as the first page of a given search result. All `search()` knows how to do is paginate, and process results; all `make_url()` does is stitch a bunch of criteria together in such a way that TradeMe won't reject it."
   ]
  },
  {
   "cell_type": "markdown",
   "metadata": {},
   "source": [
    "Let's look at each function:"
   ]
  },
  {
   "cell_type": "code",
   "execution_count": 1,
   "metadata": {},
   "outputs": [],
   "source": [
    "from trademe.search import search, make_url"
   ]
  },
  {
   "cell_type": "code",
   "execution_count": 2,
   "metadata": {},
   "outputs": [
    {
     "name": "stdout",
     "output_type": "stream",
     "text": [
      "Help on function search in module trademe.search:\n",
      "\n",
      "search(timeout=None, driver_arguments=['--headless=new', '--start-maximized'], *urls)\n",
      "    Searches TradeMe using URLs. \n",
      "    \n",
      "    For each URL, search() paginates until it can't find any more listings, \n",
      "    then returns.\n",
      "    \n",
      "    Note: search() uses a Chrome webdriver, so it's recommended you have \n",
      "    the relevant Chrome drivers downloaded in advance.\n",
      "    \n",
      "    Args:\n",
      "        timeout: The implicit wait used (in seconds) for the Selenium webdriver\n",
      "            under the hood.\n",
      "        driver_arguments: The arguments set for the webdriver.\n",
      "        *urls: URL strings to be treated as the first page of a set of search\n",
      "            results, which search() will paginate over.\n",
      "    \n",
      "    Returns:\n",
      "        A list of Listing objects.\n",
      "\n"
     ]
    }
   ],
   "source": [
    "help(search)"
   ]
  },
  {
   "cell_type": "markdown",
   "metadata": {},
   "source": [
    "The most basic way of using `search()` is just to pass in a bunch of URLs (or just one), *args-style.\n",
    "Optionally, you can specify driver settings (via `driver_arguments`) and the webdriver's implicit wait (via `timeout`)."
   ]
  },
  {
   "cell_type": "markdown",
   "metadata": {},
   "source": [
    "`search()` returns a list of Listing objects. The Listing class holds the title, address, price, features, link, availability, parking, agent, and agency of a listing."
   ]
  },
  {
   "cell_type": "code",
   "execution_count": 3,
   "metadata": {},
   "outputs": [
    {
     "name": "stdout",
     "output_type": "stream",
     "text": [
      "Help on function make_url in module trademe.search:\n",
      "\n",
      "make_url(sale_or_rent: str, region: str = '', district: str = '', suburb: str = '', **kwargs)\n",
      "    Make URL for search() from search criteria.\n",
      "    \n",
      "    Note there is no data validation for region, district, or suburb names, or\n",
      "    for kwargs.\n",
      "    \n",
      "    Also note that two-word locations should be spelled with dashes (not\n",
      "    spaces), e.g. instead of suburb=\"Aro Valley\", do suburb=\"aro-valley\".\n",
      "    Capitalisation doesn't matter.\n",
      "    \n",
      "    Valid kwargs:\n",
      "    For rent or sale searches:\n",
      "        *Integers*:\n",
      "        - bathrooms_min\n",
      "        - bathrooms_max\n",
      "        - bedrooms_min\n",
      "        - bedrooms_max\n",
      "        - price_min\n",
      "        - price_max\n",
      "        *Other*\n",
      "        - property_type; can be apartment, carpark, house, townhouse, unit\n",
      "        - adjacent_suburbs; true/false\n",
      "        - search_string; can be any string, e.g. \"Comprende\"\n",
      "    For rent searches only:\n",
      "        - available_now; true/false\n",
      "        - pets_ok; true/false\n",
      "    For sale searches only:\n",
      "        - open_homes; true/false\n",
      "        - new_homes; true/false\n",
      "\n"
     ]
    }
   ],
   "source": [
    "help(make_url)"
   ]
  },
  {
   "cell_type": "markdown",
   "metadata": {},
   "source": [
    "In short, the arguments should speak for themselves. `make_url()` does a good job of checking that the right arguments are present in the right combinations, but it won't spell-check anything."
   ]
  },
  {
   "cell_type": "markdown",
   "metadata": {},
   "source": [
    "Note that if you *do* misspell something, `search()` won't be able to find any listings, and will return an empty list."
   ]
  },
  {
   "cell_type": "markdown",
   "metadata": {},
   "source": [
    "## Threading"
   ]
  },
  {
   "cell_type": "markdown",
   "metadata": {},
   "source": [
    "It's entirely possible to use threading to run multiple URLs in parallel. Note that, while `search()` *can* take multiple URLs, it does *not* do the threading for you - if you give it lots of URLs, they'll be handled sequentially, not concurrently."
   ]
  },
  {
   "cell_type": "markdown",
   "metadata": {},
   "source": [
    "Because `search()` is I/O-bound - or, more specifically, because it makes a system call - it bypasses the Python GIL, and as such can be used for multithreading."
   ]
  },
  {
   "cell_type": "markdown",
   "metadata": {},
   "source": [
    "**Threading is a *great* idea for big searches!** E.g. if you want to search for listings in a handful of suburbs in Wellington, it might be a good idea to specify them all separately, and take advantage of multiple processes to run them concurrently."
   ]
  },
  {
   "cell_type": "markdown",
   "metadata": {},
   "source": [
    "### Single-threaded example"
   ]
  },
  {
   "cell_type": "code",
   "execution_count": 4,
   "metadata": {},
   "outputs": [
    {
     "name": "stdout",
     "output_type": "stream",
     "text": [
      "CPU times: user 436 ms, sys: 54.4 ms, total: 490 ms\n",
      "Wall time: 13.9 s\n"
     ]
    }
   ],
   "source": [
    "%%time\n",
    "# Generate URL:\n",
    "url = make_url(\"rent\", search_string=\"Comprende\")\n",
    "\n",
    "# Run search:\n",
    "listings = search(None, [], url)"
   ]
  },
  {
   "cell_type": "code",
   "execution_count": 7,
   "metadata": {},
   "outputs": [
    {
     "data": {
      "text/plain": [
       "[Listing(title='503/8 Wigan Street, Wellington Central, Wellington', address=None, price='$520 per week', features='1 bedrooms. 1 bathrooms.', link='https://www.trademe.co.nz/a/property/residential/rent/wellington/wellington/wellington-central/listing/4330212692?rsqid=bd0b51044a374bc79b9947f4e84ddb25-001', availability='Available: Fri, 22 Sep', parking='n/a', agent=' Rebekah Joyce ', agency='Comprende Ltd'),\n",
       " Listing(title='65 Roseneath Terrace (upper), Roseneath, Wellington', address=None, price='$850 per week', features='4 bedrooms. 1 bathrooms.', link='https://www.trademe.co.nz/a/property/residential/rent/wellington/wellington/roseneath/listing/4330206937?rsqid=bd0b51044a374bc79b9947f4e84ddb25-001', availability='Available: Fri, 29 Sep', parking='n/a', agent=' Rebekah Joyce ', agency='Comprende Ltd'),\n",
       " Listing(title='12D/126 The Terrace, Wellington Central, Wellington', address=None, price='$490 per week', features='1 bedrooms. 1 bathrooms.', link='https://www.trademe.co.nz/a/property/residential/rent/wellington/wellington/wellington-central/listing/4324094732?rsqid=bd0b51044a374bc79b9947f4e84ddb25-001', availability='Available: Fri, 20 Oct', parking='n/a', agent=' Rebekah Joyce ', agency='Comprende Ltd'),\n",
       " Listing(title='1602A/111 Dixon Street, Wellington Central, Wellington', address=None, price='$440 per week', features='1 bedrooms. 1 bathrooms.', link='https://www.trademe.co.nz/a/property/residential/rent/wellington/wellington/wellington-central/listing/4323610848?rsqid=bd0b51044a374bc79b9947f4e84ddb25-001', availability='Available: Fri, 13 Oct', parking='n/a', agent=' Rebekah Joyce ', agency='Comprende Ltd'),\n",
       " Listing(title='207/169 The Terrace, Wellington Central, Wellington', address=None, price='$330 per week', features='1 bedrooms. 1 bathrooms.', link='https://www.trademe.co.nz/a/property/residential/rent/wellington/wellington/wellington-central/listing/4323607890?rsqid=bd0b51044a374bc79b9947f4e84ddb25-001', availability='Available: Now', parking='n/a', agent=' Rebekah Joyce ', agency='Comprende Ltd'),\n",
       " Listing(title='504/169 The Terrace, Wellington Central, Wellington', address=None, price='$440 per week', features='1 bedrooms. 1 bathrooms.', link='https://www.trademe.co.nz/a/property/residential/rent/wellington/wellington/wellington-central/listing/4323575595?rsqid=bd0b51044a374bc79b9947f4e84ddb25-001', availability='Available: Fri, 29 Sep', parking='n/a', agent=' Rebekah Joyce ', agency='Comprende Ltd'),\n",
       " Listing(title='8 Koru Loop, Paraparaumu, Kapiti Coast', address=None, price='$730 per week', features='3 bedrooms. 1 bathrooms.', link='https://www.trademe.co.nz/a/property/residential/rent/wellington/kapiti-coast/paraparaumu/listing/4320859586?rsqid=bd0b51044a374bc79b9947f4e84ddb25-001', availability='Available: Now', parking='n/a', agent=' Rebekah Joyce ', agency='Comprende Ltd'),\n",
       " Listing(title='5B/49 Manners Street, Wellington Central, Wellington', address=None, price='$410 per week', features='1 bedrooms. 1 bathrooms.', link='https://www.trademe.co.nz/a/property/residential/rent/wellington/wellington/wellington-central/listing/4318993964?rsqid=bd0b51044a374bc79b9947f4e84ddb25-001', availability='Available: Now', parking='n/a', agent=' Rebekah Joyce\\n', agency='Comprende Ltd'),\n",
       " Listing(title='702/74 Taranaki Street, Wellington Central, Wellington', address=None, price='$650 per week', features='2 bedrooms. 2 bathrooms.', link='https://www.trademe.co.nz/a/property/residential/rent/wellington/wellington/wellington-central/listing/4311133260?rsqid=bd0b51044a374bc79b9947f4e84ddb25-001', availability='Available: Fri, 6 Oct', parking='n/a', agent=' Rebekah Joyce\\n', agency='Comprende Ltd'),\n",
       " Listing(title='6B/6 Ferry Road, Days Bay, Lower Hutt', address=None, price='$800 per week', features='3 bedrooms. 2 bathrooms.', link='https://www.trademe.co.nz/a/property/residential/rent/wellington/lower-hutt/days-bay/listing/4308177074?rsqid=bd0b51044a374bc79b9947f4e84ddb25-001', availability='Available: Now', parking='n/a', agent=' Rebekah Joyce\\n', agency='Comprende Ltd'),\n",
       " Listing(title='606/15 Holland Street, Wellington Central, Wellington', address=None, price='$645 per week', features='2 bedrooms. 1 bathrooms.', link='https://www.trademe.co.nz/a/property/residential/rent/wellington/wellington/wellington-central/listing/4308083822?rsqid=bd0b51044a374bc79b9947f4e84ddb25-001', availability='Available: Fri, 3 Nov', parking='n/a', agent=' Rebekah Joyce\\n', agency='Comprende Ltd'),\n",
       " Listing(title='2/71 Ellice Street, Mount Victoria, Wellington', address=None, price='$860 per week', features='4 bedrooms. 1 bathrooms.', link='https://www.trademe.co.nz/a/property/residential/rent/wellington/wellington/mount-victoria/listing/4308063067?rsqid=bd0b51044a374bc79b9947f4e84ddb25-001', availability='Available: Fri, 3 Nov', parking='n/a', agent=' Rebekah Joyce\\n', agency='Comprende Ltd'),\n",
       " Listing(title='1219/74 Taranaki Street, Wellington Central, Wellington', address=None, price='$500 per week', features='1 bedrooms. 1 bathrooms.', link='https://www.trademe.co.nz/a/property/residential/rent/wellington/wellington/wellington-central/listing/4298730035?rsqid=bd0b51044a374bc79b9947f4e84ddb25-001', availability='Available: Fri, 29 Sep', parking='n/a', agent=' Rebekah Joyce\\n', agency='Comprende Ltd'),\n",
       " Listing(title='403/8 Wigan Street, Wellington Central, Wellington', address=None, price='$530 per week', features='1 bedrooms. 1 bathrooms.', link='https://www.trademe.co.nz/a/property/residential/rent/wellington/wellington/wellington-central/listing/4292743382?rsqid=bd0b51044a374bc79b9947f4e84ddb25-001', availability='Available: Now', parking='n/a', agent=' Rebekah Joyce\\n', agency='Comprende Ltd'),\n",
       " Listing(title='9/5 Hawker Street, Mount Victoria, Wellington', address=None, price='$450 per week', features='1 bedrooms. 1 bathrooms.', link='https://www.trademe.co.nz/a/property/residential/rent/wellington/wellington/mount-victoria/listing/4290858433?rsqid=bd0b51044a374bc79b9947f4e84ddb25-001', availability='Available: Fri, 22 Sep', parking='n/a', agent=' Rebekah Joyce\\n', agency='Comprende Ltd'),\n",
       " Listing(title='3B/49 Manners Street, Wellington Central, Wellington', address=None, price='$430 per week', features='1 bedrooms. 1 bathrooms.', link='https://www.trademe.co.nz/a/property/residential/rent/wellington/wellington/wellington-central/listing/4285967482?rsqid=bd0b51044a374bc79b9947f4e84ddb25-001', availability='Available: Fri, 29 Sep', parking='n/a', agent=' Rebekah Joyce\\n', agency='Comprende Ltd'),\n",
       " Listing(title='8/101-107 Cuba Street, Wellington Central, Wellington', address=None, price='$780 per week', features='3 bedrooms. 1 bathrooms.', link='https://www.trademe.co.nz/a/property/residential/rent/wellington/wellington/wellington-central/listing/4275044034?rsqid=bd0b51044a374bc79b9947f4e84ddb25-001', availability='Available: Now', parking='n/a', agent=' Rebekah Joyce\\n', agency='Comprende Ltd'),\n",
       " Listing(title='8/39 Arthur Street, Wellington Central, Wellington', address=None, price='$550 per week', features='2 bedrooms. 1 bathrooms.', link='https://www.trademe.co.nz/a/property/residential/rent/wellington/wellington/wellington-central/listing/4270813725?rsqid=bd0b51044a374bc79b9947f4e84ddb25-001', availability='Available: Now', parking='n/a', agent=' Rebekah Joyce\\n', agency='Comprende Ltd'),\n",
       " Listing(title='808/74 Taranaki Street, Wellington Central, Wellington', address=None, price='$730 per week', features='3 bedrooms. 2 bathrooms.', link='https://www.trademe.co.nz/a/property/residential/rent/wellington/wellington/wellington-central/listing/4263969905?rsqid=bd0b51044a374bc79b9947f4e84ddb25-001', availability='Available: Fri, 29 Sep', parking='n/a', agent=' Rebekah Joyce\\n', agency='Comprende Ltd')]"
      ]
     },
     "execution_count": 7,
     "metadata": {},
     "output_type": "execute_result"
    }
   ],
   "source": [
    "listings  # Comprende properties for rent, as at 18 September:"
   ]
  },
  {
   "cell_type": "code",
   "execution_count": 6,
   "metadata": {},
   "outputs": [
    {
     "data": {
      "text/plain": [
       "Listing(title='8 Koru Loop, Paraparaumu, Kapiti Coast', address=None, price='$730 per week', features='3 bedrooms. 1 bathrooms.', link='https://www.trademe.co.nz/a/property/residential/rent/wellington/kapiti-coast/paraparaumu/listing/4320859586?rsqid=bd0b51044a374bc79b9947f4e84ddb25-001', availability='Available: Now', parking='n/a', agent=' Rebekah Joyce ', agency='Comprende Ltd')"
      ]
     },
     "execution_count": 6,
     "metadata": {},
     "output_type": "execute_result"
    }
   ],
   "source": [
    "listings[6]"
   ]
  },
  {
   "cell_type": "markdown",
   "metadata": {},
   "source": [
    "### Multi-threaded example"
   ]
  },
  {
   "cell_type": "markdown",
   "metadata": {},
   "source": [
    "I'm a threading noob, but hopefully this conveys the general idea: running `search()` on more threads means less runtime."
   ]
  },
  {
   "cell_type": "code",
   "execution_count": 6,
   "metadata": {},
   "outputs": [],
   "source": [
    "import threading"
   ]
  },
  {
   "cell_type": "code",
   "execution_count": 7,
   "metadata": {},
   "outputs": [
    {
     "name": "stdout",
     "output_type": "stream",
     "text": [
      "CPU times: user 1.36 s, sys: 129 ms, total: 1.49 s\n",
      "Wall time: 37.3 s\n"
     ]
    }
   ],
   "source": [
    "%%time\n",
    "# Generate URLs: using the same URL as single-thread example for fair runtime \n",
    "# comparison\n",
    "_url = make_url(\"rent\", search_string=\"Comprende\")\n",
    "urls = _url, _url, _url\n",
    "\n",
    "# Run search: \n",
    "threads = []\n",
    "for url in urls:  # Will open three threads\n",
    "    t = threading.Thread(target=search, args=(None, [], url))\n",
    "    t.start()\n",
    "    threads.append(t)\n",
    "\n",
    "for t in threads:\n",
    "    t.join()"
   ]
  },
  {
   "cell_type": "markdown",
   "metadata": {},
   "source": [
    "Note that this took 38 seconds, which is less than you would expect if you ran these URLs sequentially. (The single-threaded example took ~16s, so you might take 3*16=~48s with a single thread)."
   ]
  },
  {
   "cell_type": "markdown",
   "metadata": {},
   "source": [
    "## Turning your list of Listings into a DataFrame/CSV"
   ]
  },
  {
   "cell_type": "code",
   "execution_count": 8,
   "metadata": {},
   "outputs": [],
   "source": [
    "import pandas as pd\n",
    "\n",
    "# Converts dataclass instances (each Listing object is a dataclass) to dict:\n",
    "from dataclasses import asdict  "
   ]
  },
  {
   "cell_type": "code",
   "execution_count": 9,
   "metadata": {},
   "outputs": [],
   "source": [
    "# To get a DataFrame, we'll want to convert our list[Listing] into list[dict]\n",
    "\n",
    "# Using `listings` from above, the result of searching for \"rent\" and \n",
    "# search_string=\"Comprende\":\n",
    "list_of_dicts = [asdict(l) for l in listings]"
   ]
  },
  {
   "cell_type": "code",
   "execution_count": 10,
   "metadata": {},
   "outputs": [
    {
     "data": {
      "text/plain": [
       "Listing(title='503/8 Wigan Street, Wellington Central, Wellington', address=None, price='$520 per week', features='1 bedrooms. 1 bathrooms.', link='https://www.trademe.co.nz/a/property/residential/rent/wellington/wellington/wellington-central/listing/4330212692?rsqid=ad4dc34d1ff64e23863bf92dfc888afe-001', availability='Available: Fri, 22 Sep', parking='n/a', agent=' Rebekah Joyce ', agency='Comprende Ltd')"
      ]
     },
     "execution_count": 10,
     "metadata": {},
     "output_type": "execute_result"
    }
   ],
   "source": [
    "listings[0]  # Listing object"
   ]
  },
  {
   "cell_type": "code",
   "execution_count": 11,
   "metadata": {},
   "outputs": [
    {
     "data": {
      "text/plain": [
       "[{'title': '503/8 Wigan Street, Wellington Central, Wellington',\n",
       "  'address': None,\n",
       "  'price': '$520 per week',\n",
       "  'features': '1 bedrooms. 1 bathrooms.',\n",
       "  'link': 'https://www.trademe.co.nz/a/property/residential/rent/wellington/wellington/wellington-central/listing/4330212692?rsqid=ad4dc34d1ff64e23863bf92dfc888afe-001',\n",
       "  'availability': 'Available: Fri, 22 Sep',\n",
       "  'parking': 'n/a',\n",
       "  'agent': ' Rebekah Joyce ',\n",
       "  'agency': 'Comprende Ltd'},\n",
       " {'title': '65 Roseneath Terrace (upper), Roseneath, Wellington',\n",
       "  'address': None,\n",
       "  'price': '$850 per week',\n",
       "  'features': '4 bedrooms. 1 bathrooms.',\n",
       "  'link': 'https://www.trademe.co.nz/a/property/residential/rent/wellington/wellington/roseneath/listing/4330206937?rsqid=ad4dc34d1ff64e23863bf92dfc888afe-001',\n",
       "  'availability': 'Available: Fri, 29 Sep',\n",
       "  'parking': 'n/a',\n",
       "  'agent': ' Rebekah Joyce ',\n",
       "  'agency': 'Comprende Ltd'},\n",
       " {'title': '12D/126 The Terrace, Wellington Central, Wellington',\n",
       "  'address': None,\n",
       "  'price': '$490 per week',\n",
       "  'features': '1 bedrooms. 1 bathrooms.',\n",
       "  'link': 'https://www.trademe.co.nz/a/property/residential/rent/wellington/wellington/wellington-central/listing/4324094732?rsqid=ad4dc34d1ff64e23863bf92dfc888afe-001',\n",
       "  'availability': 'Available: Fri, 20 Oct',\n",
       "  'parking': 'n/a',\n",
       "  'agent': ' Rebekah Joyce ',\n",
       "  'agency': 'Comprende Ltd'},\n",
       " {'title': '1602A/111 Dixon Street, Wellington Central, Wellington',\n",
       "  'address': None,\n",
       "  'price': '$440 per week',\n",
       "  'features': '1 bedrooms. 1 bathrooms.',\n",
       "  'link': 'https://www.trademe.co.nz/a/property/residential/rent/wellington/wellington/wellington-central/listing/4323610848?rsqid=ad4dc34d1ff64e23863bf92dfc888afe-001',\n",
       "  'availability': 'Available: Fri, 13 Oct',\n",
       "  'parking': 'n/a',\n",
       "  'agent': ' Rebekah Joyce ',\n",
       "  'agency': 'Comprende Ltd'},\n",
       " {'title': '207/169 The Terrace, Wellington Central, Wellington',\n",
       "  'address': None,\n",
       "  'price': '$330 per week',\n",
       "  'features': '1 bedrooms. 1 bathrooms.',\n",
       "  'link': 'https://www.trademe.co.nz/a/property/residential/rent/wellington/wellington/wellington-central/listing/4323607890?rsqid=ad4dc34d1ff64e23863bf92dfc888afe-001',\n",
       "  'availability': 'Available: Now',\n",
       "  'parking': 'n/a',\n",
       "  'agent': ' Rebekah Joyce ',\n",
       "  'agency': 'Comprende Ltd'},\n",
       " {'title': '504/169 The Terrace, Wellington Central, Wellington',\n",
       "  'address': None,\n",
       "  'price': '$440 per week',\n",
       "  'features': '1 bedrooms. 1 bathrooms.',\n",
       "  'link': 'https://www.trademe.co.nz/a/property/residential/rent/wellington/wellington/wellington-central/listing/4323575595?rsqid=ad4dc34d1ff64e23863bf92dfc888afe-001',\n",
       "  'availability': 'Available: Fri, 29 Sep',\n",
       "  'parking': 'n/a',\n",
       "  'agent': ' Rebekah Joyce ',\n",
       "  'agency': 'Comprende Ltd'},\n",
       " {'title': '8 Koru Loop, Paraparaumu, Kapiti Coast',\n",
       "  'address': None,\n",
       "  'price': '$730 per week',\n",
       "  'features': '3 bedrooms. 1 bathrooms.',\n",
       "  'link': 'https://www.trademe.co.nz/a/property/residential/rent/wellington/kapiti-coast/paraparaumu/listing/4320859586?rsqid=ad4dc34d1ff64e23863bf92dfc888afe-001',\n",
       "  'availability': 'Available: Now',\n",
       "  'parking': 'n/a',\n",
       "  'agent': ' Rebekah Joyce ',\n",
       "  'agency': 'Comprende Ltd'},\n",
       " {'title': '5B/49 Manners Street, Wellington Central, Wellington',\n",
       "  'address': None,\n",
       "  'price': '$410 per week',\n",
       "  'features': '1 bedrooms. 1 bathrooms.',\n",
       "  'link': 'https://www.trademe.co.nz/a/property/residential/rent/wellington/wellington/wellington-central/listing/4318993964?rsqid=ad4dc34d1ff64e23863bf92dfc888afe-001',\n",
       "  'availability': 'Available: Now',\n",
       "  'parking': 'n/a',\n",
       "  'agent': ' Rebekah Joyce\\n',\n",
       "  'agency': 'Comprende Ltd'},\n",
       " {'title': '702/74 Taranaki Street, Wellington Central, Wellington',\n",
       "  'address': None,\n",
       "  'price': '$650 per week',\n",
       "  'features': '2 bedrooms. 2 bathrooms.',\n",
       "  'link': 'https://www.trademe.co.nz/a/property/residential/rent/wellington/wellington/wellington-central/listing/4311133260?rsqid=ad4dc34d1ff64e23863bf92dfc888afe-001',\n",
       "  'availability': 'Available: Fri, 6 Oct',\n",
       "  'parking': 'n/a',\n",
       "  'agent': ' Rebekah Joyce\\n',\n",
       "  'agency': 'Comprende Ltd'},\n",
       " {'title': '6B/6 Ferry Road, Days Bay, Lower Hutt',\n",
       "  'address': None,\n",
       "  'price': '$800 per week',\n",
       "  'features': '3 bedrooms. 2 bathrooms.',\n",
       "  'link': 'https://www.trademe.co.nz/a/property/residential/rent/wellington/lower-hutt/days-bay/listing/4308177074?rsqid=ad4dc34d1ff64e23863bf92dfc888afe-001',\n",
       "  'availability': 'Available: Now',\n",
       "  'parking': 'n/a',\n",
       "  'agent': ' Rebekah Joyce\\n',\n",
       "  'agency': 'Comprende Ltd'},\n",
       " {'title': '606/15 Holland Street, Wellington Central, Wellington',\n",
       "  'address': None,\n",
       "  'price': '$645 per week',\n",
       "  'features': '2 bedrooms. 1 bathrooms.',\n",
       "  'link': 'https://www.trademe.co.nz/a/property/residential/rent/wellington/wellington/wellington-central/listing/4308083822?rsqid=ad4dc34d1ff64e23863bf92dfc888afe-001',\n",
       "  'availability': 'Available: Fri, 3 Nov',\n",
       "  'parking': 'n/a',\n",
       "  'agent': ' Rebekah Joyce\\n',\n",
       "  'agency': 'Comprende Ltd'},\n",
       " {'title': '2/71 Ellice Street, Mount Victoria, Wellington',\n",
       "  'address': None,\n",
       "  'price': '$860 per week',\n",
       "  'features': '4 bedrooms. 1 bathrooms.',\n",
       "  'link': 'https://www.trademe.co.nz/a/property/residential/rent/wellington/wellington/mount-victoria/listing/4308063067?rsqid=ad4dc34d1ff64e23863bf92dfc888afe-001',\n",
       "  'availability': 'Available: Fri, 3 Nov',\n",
       "  'parking': 'n/a',\n",
       "  'agent': ' Rebekah Joyce\\n',\n",
       "  'agency': 'Comprende Ltd'},\n",
       " {'title': '1219/74 Taranaki Street, Wellington Central, Wellington',\n",
       "  'address': None,\n",
       "  'price': '$500 per week',\n",
       "  'features': '1 bedrooms. 1 bathrooms.',\n",
       "  'link': 'https://www.trademe.co.nz/a/property/residential/rent/wellington/wellington/wellington-central/listing/4298730035?rsqid=ad4dc34d1ff64e23863bf92dfc888afe-001',\n",
       "  'availability': 'Available: Fri, 29 Sep',\n",
       "  'parking': 'n/a',\n",
       "  'agent': ' Rebekah Joyce\\n',\n",
       "  'agency': 'Comprende Ltd'},\n",
       " {'title': '403/8 Wigan Street, Wellington Central, Wellington',\n",
       "  'address': None,\n",
       "  'price': '$530 per week',\n",
       "  'features': '1 bedrooms. 1 bathrooms.',\n",
       "  'link': 'https://www.trademe.co.nz/a/property/residential/rent/wellington/wellington/wellington-central/listing/4292743382?rsqid=ad4dc34d1ff64e23863bf92dfc888afe-001',\n",
       "  'availability': 'Available: Now',\n",
       "  'parking': 'n/a',\n",
       "  'agent': ' Rebekah Joyce\\n',\n",
       "  'agency': 'Comprende Ltd'},\n",
       " {'title': '9/5 Hawker Street, Mount Victoria, Wellington',\n",
       "  'address': None,\n",
       "  'price': '$450 per week',\n",
       "  'features': '1 bedrooms. 1 bathrooms.',\n",
       "  'link': 'https://www.trademe.co.nz/a/property/residential/rent/wellington/wellington/mount-victoria/listing/4290858433?rsqid=ad4dc34d1ff64e23863bf92dfc888afe-001',\n",
       "  'availability': 'Available: Fri, 22 Sep',\n",
       "  'parking': 'n/a',\n",
       "  'agent': ' Rebekah Joyce\\n',\n",
       "  'agency': 'Comprende Ltd'},\n",
       " {'title': '3B/49 Manners Street, Wellington Central, Wellington',\n",
       "  'address': None,\n",
       "  'price': '$430 per week',\n",
       "  'features': '1 bedrooms. 1 bathrooms.',\n",
       "  'link': 'https://www.trademe.co.nz/a/property/residential/rent/wellington/wellington/wellington-central/listing/4285967482?rsqid=ad4dc34d1ff64e23863bf92dfc888afe-001',\n",
       "  'availability': 'Available: Fri, 29 Sep',\n",
       "  'parking': 'n/a',\n",
       "  'agent': ' Rebekah Joyce\\n',\n",
       "  'agency': 'Comprende Ltd'},\n",
       " {'title': '304/8 Wigan Street, Wellington Central, Wellington',\n",
       "  'address': None,\n",
       "  'price': '$500 per week',\n",
       "  'features': '1 bedrooms. 1 bathrooms.',\n",
       "  'link': 'https://www.trademe.co.nz/a/property/residential/rent/wellington/wellington/wellington-central/listing/4281992939?rsqid=ad4dc34d1ff64e23863bf92dfc888afe-001',\n",
       "  'availability': 'Available: Now',\n",
       "  'parking': 'n/a',\n",
       "  'agent': ' Rebekah Joyce\\n',\n",
       "  'agency': 'Comprende Ltd'},\n",
       " {'title': '8/101-107 Cuba Street, Wellington Central, Wellington',\n",
       "  'address': None,\n",
       "  'price': '$780 per week',\n",
       "  'features': '3 bedrooms. 1 bathrooms.',\n",
       "  'link': 'https://www.trademe.co.nz/a/property/residential/rent/wellington/wellington/wellington-central/listing/4275044034?rsqid=ad4dc34d1ff64e23863bf92dfc888afe-001',\n",
       "  'availability': 'Available: Now',\n",
       "  'parking': 'n/a',\n",
       "  'agent': ' Rebekah Joyce\\n',\n",
       "  'agency': 'Comprende Ltd'},\n",
       " {'title': '8/39 Arthur Street, Wellington Central, Wellington',\n",
       "  'address': None,\n",
       "  'price': '$550 per week',\n",
       "  'features': '2 bedrooms. 1 bathrooms.',\n",
       "  'link': 'https://www.trademe.co.nz/a/property/residential/rent/wellington/wellington/wellington-central/listing/4270813725?rsqid=ad4dc34d1ff64e23863bf92dfc888afe-001',\n",
       "  'availability': 'Available: Now',\n",
       "  'parking': 'n/a',\n",
       "  'agent': ' Rebekah Joyce\\n',\n",
       "  'agency': 'Comprende Ltd'},\n",
       " {'title': '808/74 Taranaki Street, Wellington Central, Wellington',\n",
       "  'address': None,\n",
       "  'price': '$730 per week',\n",
       "  'features': '3 bedrooms. 2 bathrooms.',\n",
       "  'link': 'https://www.trademe.co.nz/a/property/residential/rent/wellington/wellington/wellington-central/listing/4263969905?rsqid=ad4dc34d1ff64e23863bf92dfc888afe-001',\n",
       "  'availability': 'Available: Fri, 29 Sep',\n",
       "  'parking': 'n/a',\n",
       "  'agent': ' Rebekah Joyce\\n',\n",
       "  'agency': 'Comprende Ltd'}]"
      ]
     },
     "execution_count": 11,
     "metadata": {},
     "output_type": "execute_result"
    }
   ],
   "source": [
    "list_of_dicts  # list[dict] is much easier to convert to a Pandas DataFrame"
   ]
  },
  {
   "cell_type": "code",
   "execution_count": 12,
   "metadata": {},
   "outputs": [],
   "source": [
    "# Make it a DataFrame:\n",
    "df_listings = pd.DataFrame(list_of_dicts)"
   ]
  },
  {
   "cell_type": "code",
   "execution_count": 13,
   "metadata": {},
   "outputs": [
    {
     "data": {
      "text/html": [
       "<div>\n",
       "<style scoped>\n",
       "    .dataframe tbody tr th:only-of-type {\n",
       "        vertical-align: middle;\n",
       "    }\n",
       "\n",
       "    .dataframe tbody tr th {\n",
       "        vertical-align: top;\n",
       "    }\n",
       "\n",
       "    .dataframe thead th {\n",
       "        text-align: right;\n",
       "    }\n",
       "</style>\n",
       "<table border=\"1\" class=\"dataframe\">\n",
       "  <thead>\n",
       "    <tr style=\"text-align: right;\">\n",
       "      <th></th>\n",
       "      <th>title</th>\n",
       "      <th>address</th>\n",
       "      <th>price</th>\n",
       "      <th>features</th>\n",
       "      <th>link</th>\n",
       "      <th>availability</th>\n",
       "      <th>parking</th>\n",
       "      <th>agent</th>\n",
       "      <th>agency</th>\n",
       "    </tr>\n",
       "  </thead>\n",
       "  <tbody>\n",
       "    <tr>\n",
       "      <th>0</th>\n",
       "      <td>503/8 Wigan Street, Wellington Central, Wellin...</td>\n",
       "      <td>None</td>\n",
       "      <td>$520 per week</td>\n",
       "      <td>1 bedrooms. 1 bathrooms.</td>\n",
       "      <td>https://www.trademe.co.nz/a/property/residenti...</td>\n",
       "      <td>Available: Fri, 22 Sep</td>\n",
       "      <td>n/a</td>\n",
       "      <td>Rebekah Joyce</td>\n",
       "      <td>Comprende Ltd</td>\n",
       "    </tr>\n",
       "    <tr>\n",
       "      <th>1</th>\n",
       "      <td>65 Roseneath Terrace (upper), Roseneath, Welli...</td>\n",
       "      <td>None</td>\n",
       "      <td>$850 per week</td>\n",
       "      <td>4 bedrooms. 1 bathrooms.</td>\n",
       "      <td>https://www.trademe.co.nz/a/property/residenti...</td>\n",
       "      <td>Available: Fri, 29 Sep</td>\n",
       "      <td>n/a</td>\n",
       "      <td>Rebekah Joyce</td>\n",
       "      <td>Comprende Ltd</td>\n",
       "    </tr>\n",
       "    <tr>\n",
       "      <th>2</th>\n",
       "      <td>12D/126 The Terrace, Wellington Central, Welli...</td>\n",
       "      <td>None</td>\n",
       "      <td>$490 per week</td>\n",
       "      <td>1 bedrooms. 1 bathrooms.</td>\n",
       "      <td>https://www.trademe.co.nz/a/property/residenti...</td>\n",
       "      <td>Available: Fri, 20 Oct</td>\n",
       "      <td>n/a</td>\n",
       "      <td>Rebekah Joyce</td>\n",
       "      <td>Comprende Ltd</td>\n",
       "    </tr>\n",
       "    <tr>\n",
       "      <th>3</th>\n",
       "      <td>1602A/111 Dixon Street, Wellington Central, We...</td>\n",
       "      <td>None</td>\n",
       "      <td>$440 per week</td>\n",
       "      <td>1 bedrooms. 1 bathrooms.</td>\n",
       "      <td>https://www.trademe.co.nz/a/property/residenti...</td>\n",
       "      <td>Available: Fri, 13 Oct</td>\n",
       "      <td>n/a</td>\n",
       "      <td>Rebekah Joyce</td>\n",
       "      <td>Comprende Ltd</td>\n",
       "    </tr>\n",
       "    <tr>\n",
       "      <th>4</th>\n",
       "      <td>207/169 The Terrace, Wellington Central, Welli...</td>\n",
       "      <td>None</td>\n",
       "      <td>$330 per week</td>\n",
       "      <td>1 bedrooms. 1 bathrooms.</td>\n",
       "      <td>https://www.trademe.co.nz/a/property/residenti...</td>\n",
       "      <td>Available: Now</td>\n",
       "      <td>n/a</td>\n",
       "      <td>Rebekah Joyce</td>\n",
       "      <td>Comprende Ltd</td>\n",
       "    </tr>\n",
       "    <tr>\n",
       "      <th>5</th>\n",
       "      <td>504/169 The Terrace, Wellington Central, Welli...</td>\n",
       "      <td>None</td>\n",
       "      <td>$440 per week</td>\n",
       "      <td>1 bedrooms. 1 bathrooms.</td>\n",
       "      <td>https://www.trademe.co.nz/a/property/residenti...</td>\n",
       "      <td>Available: Fri, 29 Sep</td>\n",
       "      <td>n/a</td>\n",
       "      <td>Rebekah Joyce</td>\n",
       "      <td>Comprende Ltd</td>\n",
       "    </tr>\n",
       "    <tr>\n",
       "      <th>6</th>\n",
       "      <td>8 Koru Loop, Paraparaumu, Kapiti Coast</td>\n",
       "      <td>None</td>\n",
       "      <td>$730 per week</td>\n",
       "      <td>3 bedrooms. 1 bathrooms.</td>\n",
       "      <td>https://www.trademe.co.nz/a/property/residenti...</td>\n",
       "      <td>Available: Now</td>\n",
       "      <td>n/a</td>\n",
       "      <td>Rebekah Joyce</td>\n",
       "      <td>Comprende Ltd</td>\n",
       "    </tr>\n",
       "    <tr>\n",
       "      <th>7</th>\n",
       "      <td>5B/49 Manners Street, Wellington Central, Well...</td>\n",
       "      <td>None</td>\n",
       "      <td>$410 per week</td>\n",
       "      <td>1 bedrooms. 1 bathrooms.</td>\n",
       "      <td>https://www.trademe.co.nz/a/property/residenti...</td>\n",
       "      <td>Available: Now</td>\n",
       "      <td>n/a</td>\n",
       "      <td>Rebekah Joyce\\n</td>\n",
       "      <td>Comprende Ltd</td>\n",
       "    </tr>\n",
       "    <tr>\n",
       "      <th>8</th>\n",
       "      <td>702/74 Taranaki Street, Wellington Central, We...</td>\n",
       "      <td>None</td>\n",
       "      <td>$650 per week</td>\n",
       "      <td>2 bedrooms. 2 bathrooms.</td>\n",
       "      <td>https://www.trademe.co.nz/a/property/residenti...</td>\n",
       "      <td>Available: Fri, 6 Oct</td>\n",
       "      <td>n/a</td>\n",
       "      <td>Rebekah Joyce\\n</td>\n",
       "      <td>Comprende Ltd</td>\n",
       "    </tr>\n",
       "    <tr>\n",
       "      <th>9</th>\n",
       "      <td>6B/6 Ferry Road, Days Bay, Lower Hutt</td>\n",
       "      <td>None</td>\n",
       "      <td>$800 per week</td>\n",
       "      <td>3 bedrooms. 2 bathrooms.</td>\n",
       "      <td>https://www.trademe.co.nz/a/property/residenti...</td>\n",
       "      <td>Available: Now</td>\n",
       "      <td>n/a</td>\n",
       "      <td>Rebekah Joyce\\n</td>\n",
       "      <td>Comprende Ltd</td>\n",
       "    </tr>\n",
       "    <tr>\n",
       "      <th>10</th>\n",
       "      <td>606/15 Holland Street, Wellington Central, Wel...</td>\n",
       "      <td>None</td>\n",
       "      <td>$645 per week</td>\n",
       "      <td>2 bedrooms. 1 bathrooms.</td>\n",
       "      <td>https://www.trademe.co.nz/a/property/residenti...</td>\n",
       "      <td>Available: Fri, 3 Nov</td>\n",
       "      <td>n/a</td>\n",
       "      <td>Rebekah Joyce\\n</td>\n",
       "      <td>Comprende Ltd</td>\n",
       "    </tr>\n",
       "    <tr>\n",
       "      <th>11</th>\n",
       "      <td>2/71 Ellice Street, Mount Victoria, Wellington</td>\n",
       "      <td>None</td>\n",
       "      <td>$860 per week</td>\n",
       "      <td>4 bedrooms. 1 bathrooms.</td>\n",
       "      <td>https://www.trademe.co.nz/a/property/residenti...</td>\n",
       "      <td>Available: Fri, 3 Nov</td>\n",
       "      <td>n/a</td>\n",
       "      <td>Rebekah Joyce\\n</td>\n",
       "      <td>Comprende Ltd</td>\n",
       "    </tr>\n",
       "    <tr>\n",
       "      <th>12</th>\n",
       "      <td>1219/74 Taranaki Street, Wellington Central, W...</td>\n",
       "      <td>None</td>\n",
       "      <td>$500 per week</td>\n",
       "      <td>1 bedrooms. 1 bathrooms.</td>\n",
       "      <td>https://www.trademe.co.nz/a/property/residenti...</td>\n",
       "      <td>Available: Fri, 29 Sep</td>\n",
       "      <td>n/a</td>\n",
       "      <td>Rebekah Joyce\\n</td>\n",
       "      <td>Comprende Ltd</td>\n",
       "    </tr>\n",
       "    <tr>\n",
       "      <th>13</th>\n",
       "      <td>403/8 Wigan Street, Wellington Central, Wellin...</td>\n",
       "      <td>None</td>\n",
       "      <td>$530 per week</td>\n",
       "      <td>1 bedrooms. 1 bathrooms.</td>\n",
       "      <td>https://www.trademe.co.nz/a/property/residenti...</td>\n",
       "      <td>Available: Now</td>\n",
       "      <td>n/a</td>\n",
       "      <td>Rebekah Joyce\\n</td>\n",
       "      <td>Comprende Ltd</td>\n",
       "    </tr>\n",
       "    <tr>\n",
       "      <th>14</th>\n",
       "      <td>9/5 Hawker Street, Mount Victoria, Wellington</td>\n",
       "      <td>None</td>\n",
       "      <td>$450 per week</td>\n",
       "      <td>1 bedrooms. 1 bathrooms.</td>\n",
       "      <td>https://www.trademe.co.nz/a/property/residenti...</td>\n",
       "      <td>Available: Fri, 22 Sep</td>\n",
       "      <td>n/a</td>\n",
       "      <td>Rebekah Joyce\\n</td>\n",
       "      <td>Comprende Ltd</td>\n",
       "    </tr>\n",
       "    <tr>\n",
       "      <th>15</th>\n",
       "      <td>3B/49 Manners Street, Wellington Central, Well...</td>\n",
       "      <td>None</td>\n",
       "      <td>$430 per week</td>\n",
       "      <td>1 bedrooms. 1 bathrooms.</td>\n",
       "      <td>https://www.trademe.co.nz/a/property/residenti...</td>\n",
       "      <td>Available: Fri, 29 Sep</td>\n",
       "      <td>n/a</td>\n",
       "      <td>Rebekah Joyce\\n</td>\n",
       "      <td>Comprende Ltd</td>\n",
       "    </tr>\n",
       "    <tr>\n",
       "      <th>16</th>\n",
       "      <td>304/8 Wigan Street, Wellington Central, Wellin...</td>\n",
       "      <td>None</td>\n",
       "      <td>$500 per week</td>\n",
       "      <td>1 bedrooms. 1 bathrooms.</td>\n",
       "      <td>https://www.trademe.co.nz/a/property/residenti...</td>\n",
       "      <td>Available: Now</td>\n",
       "      <td>n/a</td>\n",
       "      <td>Rebekah Joyce\\n</td>\n",
       "      <td>Comprende Ltd</td>\n",
       "    </tr>\n",
       "    <tr>\n",
       "      <th>17</th>\n",
       "      <td>8/101-107 Cuba Street, Wellington Central, Wel...</td>\n",
       "      <td>None</td>\n",
       "      <td>$780 per week</td>\n",
       "      <td>3 bedrooms. 1 bathrooms.</td>\n",
       "      <td>https://www.trademe.co.nz/a/property/residenti...</td>\n",
       "      <td>Available: Now</td>\n",
       "      <td>n/a</td>\n",
       "      <td>Rebekah Joyce\\n</td>\n",
       "      <td>Comprende Ltd</td>\n",
       "    </tr>\n",
       "    <tr>\n",
       "      <th>18</th>\n",
       "      <td>8/39 Arthur Street, Wellington Central, Wellin...</td>\n",
       "      <td>None</td>\n",
       "      <td>$550 per week</td>\n",
       "      <td>2 bedrooms. 1 bathrooms.</td>\n",
       "      <td>https://www.trademe.co.nz/a/property/residenti...</td>\n",
       "      <td>Available: Now</td>\n",
       "      <td>n/a</td>\n",
       "      <td>Rebekah Joyce\\n</td>\n",
       "      <td>Comprende Ltd</td>\n",
       "    </tr>\n",
       "    <tr>\n",
       "      <th>19</th>\n",
       "      <td>808/74 Taranaki Street, Wellington Central, We...</td>\n",
       "      <td>None</td>\n",
       "      <td>$730 per week</td>\n",
       "      <td>3 bedrooms. 2 bathrooms.</td>\n",
       "      <td>https://www.trademe.co.nz/a/property/residenti...</td>\n",
       "      <td>Available: Fri, 29 Sep</td>\n",
       "      <td>n/a</td>\n",
       "      <td>Rebekah Joyce\\n</td>\n",
       "      <td>Comprende Ltd</td>\n",
       "    </tr>\n",
       "  </tbody>\n",
       "</table>\n",
       "</div>"
      ],
      "text/plain": [
       "                                                title address          price  \\\n",
       "0   503/8 Wigan Street, Wellington Central, Wellin...    None  $520 per week   \n",
       "1   65 Roseneath Terrace (upper), Roseneath, Welli...    None  $850 per week   \n",
       "2   12D/126 The Terrace, Wellington Central, Welli...    None  $490 per week   \n",
       "3   1602A/111 Dixon Street, Wellington Central, We...    None  $440 per week   \n",
       "4   207/169 The Terrace, Wellington Central, Welli...    None  $330 per week   \n",
       "5   504/169 The Terrace, Wellington Central, Welli...    None  $440 per week   \n",
       "6              8 Koru Loop, Paraparaumu, Kapiti Coast    None  $730 per week   \n",
       "7   5B/49 Manners Street, Wellington Central, Well...    None  $410 per week   \n",
       "8   702/74 Taranaki Street, Wellington Central, We...    None  $650 per week   \n",
       "9               6B/6 Ferry Road, Days Bay, Lower Hutt    None  $800 per week   \n",
       "10  606/15 Holland Street, Wellington Central, Wel...    None  $645 per week   \n",
       "11     2/71 Ellice Street, Mount Victoria, Wellington    None  $860 per week   \n",
       "12  1219/74 Taranaki Street, Wellington Central, W...    None  $500 per week   \n",
       "13  403/8 Wigan Street, Wellington Central, Wellin...    None  $530 per week   \n",
       "14      9/5 Hawker Street, Mount Victoria, Wellington    None  $450 per week   \n",
       "15  3B/49 Manners Street, Wellington Central, Well...    None  $430 per week   \n",
       "16  304/8 Wigan Street, Wellington Central, Wellin...    None  $500 per week   \n",
       "17  8/101-107 Cuba Street, Wellington Central, Wel...    None  $780 per week   \n",
       "18  8/39 Arthur Street, Wellington Central, Wellin...    None  $550 per week   \n",
       "19  808/74 Taranaki Street, Wellington Central, We...    None  $730 per week   \n",
       "\n",
       "                    features  \\\n",
       "0   1 bedrooms. 1 bathrooms.   \n",
       "1   4 bedrooms. 1 bathrooms.   \n",
       "2   1 bedrooms. 1 bathrooms.   \n",
       "3   1 bedrooms. 1 bathrooms.   \n",
       "4   1 bedrooms. 1 bathrooms.   \n",
       "5   1 bedrooms. 1 bathrooms.   \n",
       "6   3 bedrooms. 1 bathrooms.   \n",
       "7   1 bedrooms. 1 bathrooms.   \n",
       "8   2 bedrooms. 2 bathrooms.   \n",
       "9   3 bedrooms. 2 bathrooms.   \n",
       "10  2 bedrooms. 1 bathrooms.   \n",
       "11  4 bedrooms. 1 bathrooms.   \n",
       "12  1 bedrooms. 1 bathrooms.   \n",
       "13  1 bedrooms. 1 bathrooms.   \n",
       "14  1 bedrooms. 1 bathrooms.   \n",
       "15  1 bedrooms. 1 bathrooms.   \n",
       "16  1 bedrooms. 1 bathrooms.   \n",
       "17  3 bedrooms. 1 bathrooms.   \n",
       "18  2 bedrooms. 1 bathrooms.   \n",
       "19  3 bedrooms. 2 bathrooms.   \n",
       "\n",
       "                                                 link            availability  \\\n",
       "0   https://www.trademe.co.nz/a/property/residenti...  Available: Fri, 22 Sep   \n",
       "1   https://www.trademe.co.nz/a/property/residenti...  Available: Fri, 29 Sep   \n",
       "2   https://www.trademe.co.nz/a/property/residenti...  Available: Fri, 20 Oct   \n",
       "3   https://www.trademe.co.nz/a/property/residenti...  Available: Fri, 13 Oct   \n",
       "4   https://www.trademe.co.nz/a/property/residenti...          Available: Now   \n",
       "5   https://www.trademe.co.nz/a/property/residenti...  Available: Fri, 29 Sep   \n",
       "6   https://www.trademe.co.nz/a/property/residenti...          Available: Now   \n",
       "7   https://www.trademe.co.nz/a/property/residenti...          Available: Now   \n",
       "8   https://www.trademe.co.nz/a/property/residenti...   Available: Fri, 6 Oct   \n",
       "9   https://www.trademe.co.nz/a/property/residenti...          Available: Now   \n",
       "10  https://www.trademe.co.nz/a/property/residenti...   Available: Fri, 3 Nov   \n",
       "11  https://www.trademe.co.nz/a/property/residenti...   Available: Fri, 3 Nov   \n",
       "12  https://www.trademe.co.nz/a/property/residenti...  Available: Fri, 29 Sep   \n",
       "13  https://www.trademe.co.nz/a/property/residenti...          Available: Now   \n",
       "14  https://www.trademe.co.nz/a/property/residenti...  Available: Fri, 22 Sep   \n",
       "15  https://www.trademe.co.nz/a/property/residenti...  Available: Fri, 29 Sep   \n",
       "16  https://www.trademe.co.nz/a/property/residenti...          Available: Now   \n",
       "17  https://www.trademe.co.nz/a/property/residenti...          Available: Now   \n",
       "18  https://www.trademe.co.nz/a/property/residenti...          Available: Now   \n",
       "19  https://www.trademe.co.nz/a/property/residenti...  Available: Fri, 29 Sep   \n",
       "\n",
       "   parking             agent         agency  \n",
       "0      n/a    Rebekah Joyce   Comprende Ltd  \n",
       "1      n/a    Rebekah Joyce   Comprende Ltd  \n",
       "2      n/a    Rebekah Joyce   Comprende Ltd  \n",
       "3      n/a    Rebekah Joyce   Comprende Ltd  \n",
       "4      n/a    Rebekah Joyce   Comprende Ltd  \n",
       "5      n/a    Rebekah Joyce   Comprende Ltd  \n",
       "6      n/a    Rebekah Joyce   Comprende Ltd  \n",
       "7      n/a   Rebekah Joyce\\n  Comprende Ltd  \n",
       "8      n/a   Rebekah Joyce\\n  Comprende Ltd  \n",
       "9      n/a   Rebekah Joyce\\n  Comprende Ltd  \n",
       "10     n/a   Rebekah Joyce\\n  Comprende Ltd  \n",
       "11     n/a   Rebekah Joyce\\n  Comprende Ltd  \n",
       "12     n/a   Rebekah Joyce\\n  Comprende Ltd  \n",
       "13     n/a   Rebekah Joyce\\n  Comprende Ltd  \n",
       "14     n/a   Rebekah Joyce\\n  Comprende Ltd  \n",
       "15     n/a   Rebekah Joyce\\n  Comprende Ltd  \n",
       "16     n/a   Rebekah Joyce\\n  Comprende Ltd  \n",
       "17     n/a   Rebekah Joyce\\n  Comprende Ltd  \n",
       "18     n/a   Rebekah Joyce\\n  Comprende Ltd  \n",
       "19     n/a   Rebekah Joyce\\n  Comprende Ltd  "
      ]
     },
     "execution_count": 13,
     "metadata": {},
     "output_type": "execute_result"
    }
   ],
   "source": [
    "df_listings "
   ]
  },
  {
   "cell_type": "code",
   "execution_count": 14,
   "metadata": {},
   "outputs": [],
   "source": [
    "# Make it a CSV:\n",
    "df_listings.to_csv(\"18_Sep_2023_Results.csv\")"
   ]
  }
 ],
 "metadata": {
  "kernelspec": {
   "display_name": ".venv",
   "language": "python",
   "name": "python3"
  },
  "language_info": {
   "codemirror_mode": {
    "name": "ipython",
    "version": 3
   },
   "file_extension": ".py",
   "mimetype": "text/x-python",
   "name": "python",
   "nbconvert_exporter": "python",
   "pygments_lexer": "ipython3",
   "version": "3.11.5"
  },
  "orig_nbformat": 4
 },
 "nbformat": 4,
 "nbformat_minor": 2
}
